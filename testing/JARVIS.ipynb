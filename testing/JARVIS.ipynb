{
 "cells": [
  {
   "cell_type": "markdown",
   "metadata": {},
   "source": [
    "# Projekt *\"J.A.R.V.I.S.\"*\n",
    "Just A Rather Very Intelligent System\n",
    "\n",
    "## Import knihoven"
   ]
  },
  {
   "cell_type": "code",
   "execution_count": 1,
   "metadata": {
    "collapsed": false
   },
   "outputs": [],
   "source": [
    "import speech_recognition as sr\n",
    "\n",
    "from gtts import gTTS\n",
    "import pyttsx\n",
    "\n",
    "import pygame\n",
    "import IPython"
   ]
  },
  {
   "cell_type": "markdown",
   "metadata": {},
   "source": [
    "## Jarvis’s Mouth: Text-to-Speech (převod textu na řeč)"
   ]
  },
  {
   "cell_type": "code",
   "execution_count": 2,
   "metadata": {
    "collapsed": false
   },
   "outputs": [
    {
     "name": "stdout",
     "output_type": "stream",
     "text": [
      "Vlož číslo: 173404\n",
      "Hotovo...\n"
     ]
    },
    {
     "data": {
      "text/html": [
       "\n",
       "                <audio controls=\"controls\" >\n",
       "                    <source src=\"data:audio/mpeg;base64,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\" type=\"audio/mpeg\" />\n",
       "                    Your browser does not support the audio element.\n",
       "                </audio>\n",
       "              "
      ],
      "text/plain": [
       "<IPython.lib.display.Audio object>"
      ]
     },
     "execution_count": 2,
     "metadata": {},
     "output_type": "execute_result"
    }
   ],
   "source": [
    "def spaceitout(source):\n",
    "    spacenum = \"\"\n",
    "    for letter in source:\n",
    "        spacenum = spacenum + letter + \" \"\n",
    "    spacenum = spacenum[:-1]\n",
    "    \n",
    "    return spacenum\n",
    "\n",
    "number = input(\"Vlož číslo: \")\n",
    "\n",
    "spacenum = spaceitout(number)\n",
    "\n",
    "message = \"Zadal jsi číslo: \"+str(spacenum)+\".\"\n",
    "\n",
    "tts = gTTS(message, lang='cs')\n",
    "tts.save(\"sound.mp3\")\n",
    "\n",
    "pygame.mixer.init(24000)\n",
    "pygame.mixer.music.load(\"sound.mp3\")\n",
    "pygame.mixer.music.play()\n",
    "\n",
    "while pygame.mixer.music.get_busy() == True:\n",
    "    continue\n",
    "\n",
    "print(\"Hotovo...\")\n",
    "\n",
    "IPython.display.Audio(\"sound.mp3\")"
   ]
  },
  {
   "cell_type": "code",
   "execution_count": 3,
   "metadata": {
    "collapsed": false,
    "scrolled": true
   },
   "outputs": [
    {
     "name": "stdout",
     "output_type": "stream",
     "text": [
      "Napiš něco: Tohle je jen jedna taková obyčejná věta.\n",
      "\n",
      "Hotovo...\n"
     ]
    },
    {
     "data": {
      "text/html": [
       "\n",
       "                <audio controls=\"controls\" >\n",
       "                    <source src=\"data:audio/mpeg;base64,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\" type=\"audio/mpeg\" />\n",
       "                    Your browser does not support the audio element.\n",
       "                </audio>\n",
       "              "
      ],
      "text/plain": [
       "<IPython.lib.display.Audio object>"
      ]
     },
     "execution_count": 3,
     "metadata": {},
     "output_type": "execute_result"
    }
   ],
   "source": [
    "M = input(\"Napiš něco: \")\n",
    "M = str(M)\n",
    "\n",
    "tts = gTTS(M, lang='cs')\n",
    "tts.save(\"sound.mp3\")\n",
    "\n",
    "pygame.mixer.init(24000)\n",
    "pygame.mixer.music.load(\"sound.mp3\")\n",
    "pygame.mixer.music.play()\n",
    "\n",
    "while pygame.mixer.music.get_busy() == True:\n",
    "    continue\n",
    "\n",
    "print(\"\\nHotovo...\")\n",
    "\n",
    "IPython.display.Audio(\"sound.mp3\")"
   ]
  },
  {
   "cell_type": "code",
   "execution_count": 4,
   "metadata": {
    "collapsed": false,
    "scrolled": false
   },
   "outputs": [
    {
     "name": "stdout",
     "output_type": "stream",
     "text": [
      "Napiš něco: Tohle je jen jedna taková obyčejná věta.\n"
     ]
    }
   ],
   "source": [
    "M = input(\"Napiš něco: \")\n",
    "M = str(M)\n",
    "\n",
    "engine = pyttsx.init()\n",
    "\n",
    "engine.setProperty('rate', 150)\n",
    "engine.setProperty('voice','cs')\n",
    "\n",
    "engine.say(M)\n",
    "\n",
    "engine.runAndWait()"
   ]
  },
  {
   "cell_type": "markdown",
   "metadata": {},
   "source": [
    "## Jarvis’s Ears: Speech Recognition (převod řeči na kód)\n",
    "### Převod řeči na text a NLP *(Natural Language Processing)*"
   ]
  },
  {
   "cell_type": "code",
   "execution_count": 5,
   "metadata": {
    "collapsed": true
   },
   "outputs": [],
   "source": [
    "## NaN"
   ]
  },
  {
   "cell_type": "markdown",
   "metadata": {},
   "source": [
    "## Jarvis’s Brain: The Code (logika projektu)"
   ]
  },
  {
   "cell_type": "code",
   "execution_count": 6,
   "metadata": {
    "collapsed": true
   },
   "outputs": [],
   "source": [
    "## NaN"
   ]
  }
 ],
 "metadata": {
  "anaconda-cloud": {},
  "kernelspec": {
   "display_name": "Python [conda root]",
   "language": "python",
   "name": "conda-root-py"
  },
  "language_info": {
   "codemirror_mode": {
    "name": "ipython",
    "version": 3
   },
   "file_extension": ".py",
   "mimetype": "text/x-python",
   "name": "python",
   "nbconvert_exporter": "python",
   "pygments_lexer": "ipython3",
   "version": "3.5.2"
  }
 },
 "nbformat": 4,
 "nbformat_minor": 1
}
